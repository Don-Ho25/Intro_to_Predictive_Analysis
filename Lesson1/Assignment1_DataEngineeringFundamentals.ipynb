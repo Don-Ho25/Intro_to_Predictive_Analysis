{
  "nbformat": 4,
  "nbformat_minor": 0,
  "metadata": {
    "colab": {
      "provenance": []
    },
    "kernelspec": {
      "name": "python3",
      "display_name": "Python 3"
    },
    "language_info": {
      "name": "python"
    }
  },
  "cells": [
    {
      "cell_type": "code",
      "execution_count": null,
      "metadata": {
        "id": "NaeyLhoS8Ivx"
      },
      "outputs": [],
      "source": [
        "data = {\n",
        "    'Name': ['Alice', 'Bob', 'Charlie', 'Wei Lin', 'Xiao Ming', 'Li Hua', 'Amélie', 'Pierre', 'Camille', 'Kwame', 'Amara', 'Kofi'],\n",
        "    'Age': [25, 30, 35, 28, 32, 26, 29, 34, 27, 31, 24, 33],\n",
        "    'City': ['New York', 'Los Angeles', 'Chicago', 'Beijing', 'Shanghai', 'Guangzhou', 'Paris', 'Lyon', 'Marseille', 'Lagos', 'Nairobi', 'Cairo']\n",
        "}"
      ]
    }
  ]
}